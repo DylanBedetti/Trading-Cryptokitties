{
 "cells": [
  {
   "cell_type": "code",
   "execution_count": 1,
   "metadata": {},
   "outputs": [],
   "source": [
    "import smtplib, ssl"
   ]
  },
  {
   "cell_type": "code",
   "execution_count": 3,
   "metadata": {},
   "outputs": [],
   "source": [
    "def send_email(msg):\n",
    "    port = 465\n",
    "\n",
    "    sender, password = 'cryptokittiestradingbot@gmail.com', 'Trading123'\n",
    "\n",
    "    reciever = '21707115@student.uwa.edu.au'\n",
    "\n",
    "    message = 'Subject: {}\\nContent-Type: text/html\\n\\n{}'.format('Cat Trading Update', msg)\n",
    "\n",
    "    context = ssl.create_default_context()\n",
    "\n",
    "    with smtplib.SMTP_SSL(\"smtp.gmail.com\", port, context = context) as server:\n",
    "        server.login(sender, password)\n",
    "        server.sendmail(sender, reciever, message)\n",
    "    print('email sent!')"
   ]
  },
  {
   "cell_type": "code",
   "execution_count": null,
   "metadata": {},
   "outputs": [],
   "source": []
  }
 ],
 "metadata": {
  "kernelspec": {
   "display_name": "Python 3",
   "language": "python",
   "name": "python3"
  },
  "language_info": {
   "codemirror_mode": {
    "name": "ipython",
    "version": 3
   },
   "file_extension": ".py",
   "mimetype": "text/x-python",
   "name": "python",
   "nbconvert_exporter": "python",
   "pygments_lexer": "ipython3",
   "version": "3.6.8"
  }
 },
 "nbformat": 4,
 "nbformat_minor": 2
}
