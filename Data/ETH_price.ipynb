{
 "cells": [
  {
   "cell_type": "code",
   "execution_count": 1,
   "metadata": {},
   "outputs": [],
   "source": [
    "# load package\n",
    "from cryptory import Cryptory\n",
    "\n",
    "# initialise object \n",
    "# pull data from start of 2017 to present day\n",
    "my_cryptory = Cryptory(from_date = \"2017-05-01\")\n",
    "\n",
    "# get historical bitcoin prices from coinmarketcap\n",
    "df = my_cryptory.extract_coinmarketcap(\"ethereum\")\n",
    "\n",
    "df.to_csv('ETH_price.csv', index = 0)"
   ]
  },
  {
   "cell_type": "code",
   "execution_count": null,
   "metadata": {},
   "outputs": [],
   "source": []
  }
 ],
 "metadata": {
  "kernelspec": {
   "display_name": "Python 3",
   "language": "python",
   "name": "python3"
  },
  "language_info": {
   "codemirror_mode": {
    "name": "ipython",
    "version": 3
   },
   "file_extension": ".py",
   "mimetype": "text/x-python",
   "name": "python",
   "nbconvert_exporter": "python",
   "pygments_lexer": "ipython3",
   "version": "3.6.8"
  }
 },
 "nbformat": 4,
 "nbformat_minor": 2
}
