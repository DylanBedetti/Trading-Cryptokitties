{
 "cells": [
  {
   "cell_type": "code",
   "execution_count": 148,
   "metadata": {},
   "outputs": [
    {
     "data": {
      "text/html": [
       "<div>\n",
       "<style scoped>\n",
       "    .dataframe tbody tr th:only-of-type {\n",
       "        vertical-align: middle;\n",
       "    }\n",
       "\n",
       "    .dataframe tbody tr th {\n",
       "        vertical-align: top;\n",
       "    }\n",
       "\n",
       "    .dataframe thead th {\n",
       "        text-align: right;\n",
       "    }\n",
       "</style>\n",
       "<table border=\"1\" class=\"dataframe\">\n",
       "  <thead>\n",
       "    <tr style=\"text-align: right;\">\n",
       "      <th></th>\n",
       "      <th>time</th>\n",
       "      <th>ID</th>\n",
       "      <th>USD</th>\n",
       "    </tr>\n",
       "  </thead>\n",
       "  <tbody>\n",
       "    <tr>\n",
       "      <th>0</th>\n",
       "      <td>2019-06-30T02:21:40.000Z</td>\n",
       "      <td>1632691</td>\n",
       "      <td>0.96</td>\n",
       "    </tr>\n",
       "    <tr>\n",
       "      <th>1</th>\n",
       "      <td>2019-06-30T02:16:25.000Z</td>\n",
       "      <td>1093660</td>\n",
       "      <td>0.40</td>\n",
       "    </tr>\n",
       "    <tr>\n",
       "      <th>2</th>\n",
       "      <td>2019-06-30T02:05:20.000Z</td>\n",
       "      <td>1063243</td>\n",
       "      <td>0.38</td>\n",
       "    </tr>\n",
       "    <tr>\n",
       "      <th>3</th>\n",
       "      <td>2019-06-30T02:04:43.000Z</td>\n",
       "      <td>1043057</td>\n",
       "      <td>0.39</td>\n",
       "    </tr>\n",
       "    <tr>\n",
       "      <th>4</th>\n",
       "      <td>2019-06-30T01:45:54.000Z</td>\n",
       "      <td>1634788</td>\n",
       "      <td>14.65</td>\n",
       "    </tr>\n",
       "  </tbody>\n",
       "</table>\n",
       "</div>"
      ],
      "text/plain": [
       "                       time       ID    USD\n",
       "0  2019-06-30T02:21:40.000Z  1632691   0.96\n",
       "1  2019-06-30T02:16:25.000Z  1093660   0.40\n",
       "2  2019-06-30T02:05:20.000Z  1063243   0.38\n",
       "3  2019-06-30T02:04:43.000Z  1043057   0.39\n",
       "4  2019-06-30T01:45:54.000Z  1634788  14.65"
      ]
     },
     "execution_count": 148,
     "metadata": {},
     "output_type": "execute_result"
    }
   ],
   "source": [
    "import pandas as pd\n",
    "import requests\n",
    "import json\n",
    "import warnings\n",
    "warnings.filterwarnings('ignore')\n",
    "\n",
    "pd.set_option('max_columns', 30)\n",
    "\n",
    "    \n",
    "data = pd.read_csv('train_dense.csv')\n",
    "data.head()"
   ]
  },
  {
   "cell_type": "code",
   "execution_count": 149,
   "metadata": {},
   "outputs": [
    {
     "name": "stdout",
     "output_type": "stream",
     "text": [
      "<class 'pandas.core.frame.DataFrame'>\n",
      "RangeIndex: 106261 entries, 0 to 106260\n",
      "Data columns (total 3 columns):\n",
      "time    106261 non-null object\n",
      "ID      106261 non-null int64\n",
      "USD     106261 non-null float64\n",
      "dtypes: float64(1), int64(1), object(1)\n",
      "memory usage: 2.4+ MB\n"
     ]
    }
   ],
   "source": [
    "data.info()"
   ]
  },
  {
   "cell_type": "code",
   "execution_count": 154,
   "metadata": {},
   "outputs": [
    {
     "name": "stdout",
     "output_type": "stream",
     "text": [
      "1348\r"
     ]
    },
    {
     "ename": "KeyboardInterrupt",
     "evalue": "",
     "output_type": "error",
     "traceback": [
      "\u001b[1;31m---------------------------------------------------------------------------\u001b[0m",
      "\u001b[1;31mKeyboardInterrupt\u001b[0m                         Traceback (most recent call last)",
      "\u001b[1;32m<ipython-input-154-8f5854313427>\u001b[0m in \u001b[0;36m<module>\u001b[1;34m\u001b[0m\n\u001b[0;32m     58\u001b[0m     \u001b[0mdata\u001b[0m\u001b[1;33m[\u001b[0m\u001b[1;34m'prestige_ranking'\u001b[0m\u001b[1;33m]\u001b[0m\u001b[1;33m[\u001b[0m\u001b[0mk\u001b[0m\u001b[1;33m]\u001b[0m \u001b[1;33m=\u001b[0m \u001b[0mparsed\u001b[0m\u001b[1;33m[\u001b[0m\u001b[1;34m'prestige_ranking'\u001b[0m\u001b[1;33m]\u001b[0m\u001b[1;33m\u001b[0m\u001b[1;33m\u001b[0m\u001b[0m\n\u001b[0;32m     59\u001b[0m     \u001b[0mdata\u001b[0m\u001b[1;33m[\u001b[0m\u001b[1;34m'fancy_ranking'\u001b[0m\u001b[1;33m]\u001b[0m\u001b[1;33m[\u001b[0m\u001b[0mk\u001b[0m\u001b[1;33m]\u001b[0m \u001b[1;33m=\u001b[0m \u001b[0mparsed\u001b[0m\u001b[1;33m[\u001b[0m\u001b[1;34m'fancy_ranking'\u001b[0m\u001b[1;33m]\u001b[0m\u001b[1;33m\u001b[0m\u001b[1;33m\u001b[0m\u001b[0m\n\u001b[1;32m---> 60\u001b[1;33m     \u001b[0mdata\u001b[0m\u001b[1;33m[\u001b[0m\u001b[1;34m'prestige_time_limit'\u001b[0m\u001b[1;33m]\u001b[0m\u001b[1;33m[\u001b[0m\u001b[0mk\u001b[0m\u001b[1;33m]\u001b[0m \u001b[1;33m=\u001b[0m \u001b[0mparsed\u001b[0m\u001b[1;33m[\u001b[0m\u001b[1;34m'prestige_time_limit'\u001b[0m\u001b[1;33m]\u001b[0m\u001b[1;33m\u001b[0m\u001b[1;33m\u001b[0m\u001b[0m\n\u001b[0m\u001b[0;32m     61\u001b[0m \u001b[1;33m\u001b[0m\u001b[0m\n\u001b[0;32m     62\u001b[0m     \u001b[1;31m# Enhanced cattributes\u001b[0m\u001b[1;33m\u001b[0m\u001b[1;33m\u001b[0m\u001b[1;33m\u001b[0m\u001b[0m\n",
      "\u001b[1;32mc:\\users\\dylan\\anaconda3\\envs\\kitties\\lib\\site-packages\\pandas\\core\\series.py\u001b[0m in \u001b[0;36m__setitem__\u001b[1;34m(self, key, value)\u001b[0m\n\u001b[0;32m   1036\u001b[0m \u001b[1;33m\u001b[0m\u001b[0m\n\u001b[0;32m   1037\u001b[0m         \u001b[1;31m# do the setitem\u001b[0m\u001b[1;33m\u001b[0m\u001b[1;33m\u001b[0m\u001b[1;33m\u001b[0m\u001b[0m\n\u001b[1;32m-> 1038\u001b[1;33m         \u001b[0mcacher_needs_updating\u001b[0m \u001b[1;33m=\u001b[0m \u001b[0mself\u001b[0m\u001b[1;33m.\u001b[0m\u001b[0m_check_is_chained_assignment_possible\u001b[0m\u001b[1;33m(\u001b[0m\u001b[1;33m)\u001b[0m\u001b[1;33m\u001b[0m\u001b[1;33m\u001b[0m\u001b[0m\n\u001b[0m\u001b[0;32m   1039\u001b[0m         \u001b[0msetitem\u001b[0m\u001b[1;33m(\u001b[0m\u001b[0mkey\u001b[0m\u001b[1;33m,\u001b[0m \u001b[0mvalue\u001b[0m\u001b[1;33m)\u001b[0m\u001b[1;33m\u001b[0m\u001b[1;33m\u001b[0m\u001b[0m\n\u001b[0;32m   1040\u001b[0m         \u001b[1;32mif\u001b[0m \u001b[0mcacher_needs_updating\u001b[0m\u001b[1;33m:\u001b[0m\u001b[1;33m\u001b[0m\u001b[1;33m\u001b[0m\u001b[0m\n",
      "\u001b[1;32mc:\\users\\dylan\\anaconda3\\envs\\kitties\\lib\\site-packages\\pandas\\core\\generic.py\u001b[0m in \u001b[0;36m_check_is_chained_assignment_possible\u001b[1;34m(self)\u001b[0m\n\u001b[0;32m   3197\u001b[0m             \u001b[1;32mif\u001b[0m \u001b[0mref\u001b[0m \u001b[1;32mis\u001b[0m \u001b[1;32mnot\u001b[0m \u001b[1;32mNone\u001b[0m \u001b[1;32mand\u001b[0m \u001b[0mref\u001b[0m\u001b[1;33m.\u001b[0m\u001b[0m_is_mixed_type\u001b[0m\u001b[1;33m:\u001b[0m\u001b[1;33m\u001b[0m\u001b[1;33m\u001b[0m\u001b[0m\n\u001b[0;32m   3198\u001b[0m                 self._check_setitem_copy(stacklevel=4, t='referant',\n\u001b[1;32m-> 3199\u001b[1;33m                                          force=True)\n\u001b[0m\u001b[0;32m   3200\u001b[0m             \u001b[1;32mreturn\u001b[0m \u001b[1;32mTrue\u001b[0m\u001b[1;33m\u001b[0m\u001b[1;33m\u001b[0m\u001b[0m\n\u001b[0;32m   3201\u001b[0m         \u001b[1;32melif\u001b[0m \u001b[0mself\u001b[0m\u001b[1;33m.\u001b[0m\u001b[0m_is_copy\u001b[0m\u001b[1;33m:\u001b[0m\u001b[1;33m\u001b[0m\u001b[1;33m\u001b[0m\u001b[0m\n",
      "\u001b[1;32mc:\\users\\dylan\\anaconda3\\envs\\kitties\\lib\\site-packages\\pandas\\core\\generic.py\u001b[0m in \u001b[0;36m_check_setitem_copy\u001b[1;34m(self, stacklevel, t, force)\u001b[0m\n\u001b[0;32m   3244\u001b[0m             \u001b[1;32mtry\u001b[0m\u001b[1;33m:\u001b[0m\u001b[1;33m\u001b[0m\u001b[1;33m\u001b[0m\u001b[0m\n\u001b[0;32m   3245\u001b[0m                 \u001b[0mgc\u001b[0m\u001b[1;33m.\u001b[0m\u001b[0mcollect\u001b[0m\u001b[1;33m(\u001b[0m\u001b[1;36m2\u001b[0m\u001b[1;33m)\u001b[0m\u001b[1;33m\u001b[0m\u001b[1;33m\u001b[0m\u001b[0m\n\u001b[1;32m-> 3246\u001b[1;33m                 \u001b[1;32mif\u001b[0m \u001b[1;32mnot\u001b[0m \u001b[0mgc\u001b[0m\u001b[1;33m.\u001b[0m\u001b[0mget_referents\u001b[0m\u001b[1;33m(\u001b[0m\u001b[0mself\u001b[0m\u001b[1;33m.\u001b[0m\u001b[0m_is_copy\u001b[0m\u001b[1;33m(\u001b[0m\u001b[1;33m)\u001b[0m\u001b[1;33m)\u001b[0m\u001b[1;33m:\u001b[0m\u001b[1;33m\u001b[0m\u001b[1;33m\u001b[0m\u001b[0m\n\u001b[0m\u001b[0;32m   3247\u001b[0m                     \u001b[0mself\u001b[0m\u001b[1;33m.\u001b[0m\u001b[0m_is_copy\u001b[0m \u001b[1;33m=\u001b[0m \u001b[1;32mNone\u001b[0m\u001b[1;33m\u001b[0m\u001b[1;33m\u001b[0m\u001b[0m\n\u001b[0;32m   3248\u001b[0m                     \u001b[1;32mreturn\u001b[0m\u001b[1;33m\u001b[0m\u001b[1;33m\u001b[0m\u001b[0m\n",
      "\u001b[1;31mKeyboardInterrupt\u001b[0m: "
     ]
    }
   ],
   "source": [
    "# # Random\n",
    "# data['generation'] = ''\n",
    "# data['color'] = ''\n",
    "# data['is_fancy'] = ''\n",
    "# data['is_exclusive'] = ''\n",
    "# data['fancy_type'] = ''\n",
    "# data['is_prestige'] = ''\n",
    "# data['prestige_type'] = ''\n",
    "# data['prestige_ranking'] = ''\n",
    "# data['fancy_ranking'] = ''\n",
    "# data['prestige_time_limit'] = ''\n",
    "\n",
    "# # Enhanced cattributes\n",
    "# data['enhanced_cattributes_eyes'] = '' \n",
    "# data['enhanced_cattributes_pattern'] = '' \n",
    "# data['enhanced_cattributes_body'] = '' \n",
    "# data['enhanced_cattributes_mouth'] = '' \n",
    "# data['enhanced_cattributes_colorprimary'] = '' \n",
    "# data['enhanced_cattributes_colorsecondary'] = '' \n",
    "# data['enhanced_cattributes_colortertiary'] = '' \n",
    "# data['enhanced_cattributes_coloreyes'] = '' \n",
    "\n",
    "# # Status\n",
    "# data['status_cooldown_index'] = ''\n",
    "# data['status_is_ready'] = ''\n",
    "# data['status_is_gestating'] = ''\n",
    "\n",
    "# # Purrs\n",
    "# data['purrs_count'] = ''\n",
    "# data['purrs_is_purred'] = ''\n",
    "\n",
    "# # watchlist\n",
    "# data['watchlist_count'] = ''\n",
    "# data['watchlist_is_watchlisted'] = ''\n",
    "\n",
    "\n",
    "payload = {}\n",
    "headers = {\n",
    "  'x-api-token': 'w-5V-v6V__trBl7yxGMXnwhLiGkq-03XnCVNaKePPd4',\n",
    "  'Content-Type': 'application/json',\n",
    "}\n",
    "\n",
    "for k in range(900, len(data)):\n",
    "    url = 'https://public.api.cryptokitties.co/v1/kitties/{}'.format(data.iloc[k, 1])\n",
    "    \n",
    "    response = requests.request('GET', url, headers = headers, data = payload, allow_redirects=False)\n",
    "    \n",
    "    parsed = json.loads(response.text)\n",
    "    \n",
    "    # Random\n",
    "    data['generation'][k] = parsed['generation']\n",
    "    data['color'][k] = parsed['color']\n",
    "    data['is_fancy'][k] = parsed['is_fancy']\n",
    "    data['is_exclusive'][k] = parsed['is_exclusive']\n",
    "    data['fancy_type'][k] = parsed['fancy_type']\n",
    "    data['is_prestige'][k] = parsed['is_prestige']\n",
    "    data['prestige_type'][k] = parsed['prestige_type']\n",
    "    data['prestige_ranking'][k] = parsed['prestige_ranking']\n",
    "    data['fancy_ranking'][k] = parsed['fancy_ranking']\n",
    "    data['prestige_time_limit'][k] = parsed['prestige_time_limit']\n",
    "    \n",
    "    # Enhanced cattributes\n",
    "    if parsed['enhanced_cattributes'] != []:\n",
    "        data['enhanced_cattributes_eyes'][k] = parsed['enhanced_cattributes'][0]['description']\n",
    "        data['enhanced_cattributes_pattern'][k] = parsed['enhanced_cattributes'][1]['description']\n",
    "        data['enhanced_cattributes_body'][k] = parsed['enhanced_cattributes'][2]['description']\n",
    "        data['enhanced_cattributes_mouth'][k] = parsed['enhanced_cattributes'][3]['description']\n",
    "        data['enhanced_cattributes_colorprimary'][k] = parsed['enhanced_cattributes'][4]['description']\n",
    "        data['enhanced_cattributes_colorsecondary'][k] = parsed['enhanced_cattributes'][5]['description']\n",
    "        data['enhanced_cattributes_colortertiary'][k] = parsed['enhanced_cattributes'][6]['description'] \n",
    "        data['enhanced_cattributes_coloreyes'][k] = parsed['enhanced_cattributes'][7]['description']\n",
    "\n",
    "    # Status\n",
    "    data['status_cooldown_index'][k] = parsed['status']['cooldown_index']\n",
    "    data['status_is_ready'][k] = parsed['status']['is_ready']\n",
    "    data['status_is_gestating'][k] = parsed['status']['is_gestating']\n",
    "\n",
    "    # Purrs\n",
    "    data['purrs_count'][k] = parsed['purrs']['count']\n",
    "    data['purrs_is_purred'][k] = parsed['purrs']['is_purred']\n",
    "\n",
    "    # watchlist\n",
    "    data['watchlist_count'][k] = parsed['watchlist']['count']\n",
    "    data['watchlist_is_watchlisted'][k] = parsed['watchlist']['is_watchlisted']\n",
    "    \n",
    "    if k % 50 == 0:\n",
    "        data.to_csv('train_dense_new.csv', index = False)\n",
    "    \n",
    "    print(k, end = \"\\r\")"
   ]
  },
  {
   "cell_type": "code",
   "execution_count": 1,
   "metadata": {},
   "outputs": [
    {
     "name": "stdout",
     "output_type": "stream",
     "text": [
      "{\"id\":685221,\"name\":\"G1 R1 Beard\",\"bio\":\"Salutations. My name is #{name}. Did you know that ghost pepper hot sauce is actually a healthy part of every kitty's diet? Do you think my best colour is magenta or emerald green? Who am I kidding, I look great in everything. Are you a dictionary? Cause youâ€™re adding meaning to my life.\",\"image_url\":\"https://img.cryptokitties.co/0x06012c8cf97bead5deae237070f9587f8e7a266d/685221.svg\",\"image_url_cdn\":\"https://img.cn.cryptokitties.co/0x06012c8cf97bead5deae237070f9587f8e7a266d/685221.svg\",\"image_url_png\":\"https://img.cryptokitties.co/0x06012c8cf97bead5deae237070f9587f8e7a266d/685221.png\",\"image_path\":\"\",\"generation\":1,\"created_at\":\"2018-04-13T05:32:54Z\",\"color\":\"topaz\",\"is_fancy\":false,\"is_exclusive\":false,\"fancy_type\":null,\"language\":\"en\",\"enhanced_cattributes\":[{\"type\":\"body\",\"description\":\"selkirk\",\"position\":911,\"kittyId\":472535},{\"type\":\"coloreyes\",\"description\":\"topaz\",\"position\":-1,\"kittyId\":685221},{\"type\":\"eyes\",\"description\":\"crazy\",\"position\":-1,\"kittyId\":685221},{\"type\":\"mouth\",\"description\":\"saycheese\",\"position\":300,\"kittyId\":68169},{\"type\":\"pattern\",\"description\":\"spangled\",\"position\":439,\"kittyId\":472535},{\"type\":\"colorprimary\",\"description\":\"mauveover\",\"position\":320,\"kittyId\":68169},{\"type\":\"colorsecondary\",\"description\":\"chocolate\",\"position\":-1,\"kittyId\":685221},{\"type\":\"colortertiary\",\"description\":\"kittencream\",\"position\":-1,\"kittyId\":685221}],\"status\":{\"cooldown\":1450556623424,\"cooldown_index\":0,\"is_ready\":true,\"is_gestating\":false},\"purrs\":{\"count\":0,\"is_purred\":false},\"watchlist\":{\"count\":0,\"is_watchlisted\":false},\"hatched\":true,\"is_prestige\":false,\"prestige_type\":null,\"prestige_ranking\":null,\"fancy_ranking\":null,\"prestige_time_limit\":null,\"auction\":{\"seller\":null},\"matron\":{\"id\":68169,\"name\":\"ðŸ‘‘ Long Live The Queen ðŸ‘‘\",\"image_url\":\"https://img.cryptokitties.co/0x06012c8cf97bead5deae237070f9587f8e7a266d/68169.svg\",\"image_url_cdn\":\"https://img.cn.cryptokitties.co/0x06012c8cf97bead5deae237070f9587f8e7a266d/68169.svg\",\"image_url_png\":\"https://img.cryptokitties.co/0x06012c8cf97bead5deae237070f9587f8e7a266d/68169.png\",\"generation\":0,\"created_at\":\"2017-12-04T20:51:19Z\",\"color\":\"topaz\",\"is_fancy\":false,\"is_exclusive\":false,\"language\":\"en\",\"status\":{\"cooldown\":1562488013095,\"cooldown_index\":13,\"is_ready\":false,\"is_gestating\":false},\"owner\":{\"address\":\"0x1ded2d5bb13205833a7ad2c65e28c578a172b5ae\",\"hasDapper\":false}},\"sire\":{\"id\":472535,\"name\":\"ChartCamoBeardNacho100%icy\",\"image_url\":\"https://img.cryptokitties.co/0x06012c8cf97bead5deae237070f9587f8e7a266d/472535.svg\",\"image_url_cdn\":\"https://img.cn.cryptokitties.co/0x06012c8cf97bead5deae237070f9587f8e7a266d/472535.svg\",\"image_url_png\":\"https://img.cryptokitties.co/0x06012c8cf97bead5deae237070f9587f8e7a266d/472535.png\",\"generation\":0,\"created_at\":\"2018-01-20T06:39:38Z\",\"color\":\"topaz\",\"is_fancy\":false,\"is_exclusive\":false,\"language\":\"en\",\"status\":{\"cooldown\":1556250381662,\"cooldown_index\":13,\"is_ready\":true,\"is_gestating\":false},\"owner\":{\"address\":\"0x732de7495deecae6424c3fc3c46e47d6b4c5374e\",\"hasDapper\":false}},\"owner\":{\"address\":\"0x1f38ebcffb0be993b981225a917aaa8a6d6a4e52\",\"hasDapper\":false},\"tricks\":[],\"hatcher\":{\"address\":\"0x1bf032d01bab6cd4a2d67ec251f5c3f09728a7e3\",\"image\":\"7\",\"nickname\":\"BlueBmtKitty@gmail.com\",\"hasDapper\":false},\"is_special_edition\":false,\"offer\":{\"id\":\"\",\"expires_at\":null,\"bidder_address\":\"\",\"eth_price\":0,\"status\":\"\",\"accepted\":false,\"rejected\":true,\"approved\":false}}\n",
      "\n"
     ]
    }
   ],
   "source": [
    "import requests\n",
    "url = 'https://public.api.cryptokitties.co/v1/kitties/685221'\n",
    "\n",
    "payload = {}\n",
    "headers = {\n",
    "  'x-api-token': 'w-5V-v6V__trBl7yxGMXnwhLiGkq-03XnCVNaKePPd4',\n",
    "  'Content-Type': 'application/json',\n",
    "}\n",
    "\n",
    "response = requests.request('GET', url, headers = headers, data = payload, allow_redirects=False)\n",
    "print(response.text)"
   ]
  },
  {
   "cell_type": "code",
   "execution_count": 100,
   "metadata": {},
   "outputs": [
    {
     "name": "stdout",
     "output_type": "stream",
     "text": [
      "{\n",
      "    \"auction\": {},\n",
      "    \"bio\": \"Morning, sunshine! I\\u00e2\\u20ac\\u2122m #{name}. Do you believe in fate? Because I have seen us in the wind and clouds, and every raindrop called your name. Then again, fate also foretold that I would become an elemental avatar, growing in power with each living death. Who knows though, right? Teehee.\",\n",
      "    \"color\": \"thundergrey\",\n",
      "    \"created_at\": \"2018-02-06T14:50:28Z\",\n",
      "    \"enhanced_cattributes\": [],\n",
      "    \"fancy_ranking\": 1,\n",
      "    \"fancy_type\": \"Cathena\",\n",
      "    \"generation\": 3,\n",
      "    \"hatched\": true,\n",
      "    \"id\": 500000,\n",
      "    \"image_path\": \"\",\n",
      "    \"image_url\": \"https://img.cryptokitties.co/0x06012c8cf97bead5deae237070f9587f8e7a266d/500000.png\",\n",
      "    \"image_url_cdn\": \"https://img.cn.cryptokitties.co/0x06012c8cf97bead5deae237070f9587f8e7a266d/500000.png\",\n",
      "    \"image_url_png\": \"https://img.cryptokitties.co/0x06012c8cf97bead5deae237070f9587f8e7a266d/500000.png\",\n",
      "    \"is_exclusive\": true,\n",
      "    \"is_fancy\": true,\n",
      "    \"is_prestige\": false,\n",
      "    \"language\": \"en\",\n",
      "    \"matron\": {\n",
      "        \"color\": \"sizzurp\",\n",
      "        \"created_at\": \"2018-01-22T08:50:39Z\",\n",
      "        \"generation\": 2,\n",
      "        \"id\": 476349,\n",
      "        \"image_url\": \"https://img.cryptokitties.co/0x06012c8cf97bead5deae237070f9587f8e7a266d/476349.svg\",\n",
      "        \"image_url_cdn\": \"https://img.cn.cryptokitties.co/0x06012c8cf97bead5deae237070f9587f8e7a266d/476349.svg\",\n",
      "        \"image_url_png\": \"https://img.cryptokitties.co/0x06012c8cf97bead5deae237070f9587f8e7a266d/476349.png\",\n",
      "        \"is_exclusive\": false,\n",
      "        \"is_fancy\": false,\n",
      "        \"language\": \"en\",\n",
      "        \"name\": \"Cathena - Parent 2\",\n",
      "        \"owner\": {\n",
      "            \"address\": \"0xb8ee8b4f54dcbd8fbba37ba575f215aef019368e\"\n",
      "        },\n",
      "        \"status\": {\n",
      "            \"cooldown\": 1521579566415,\n",
      "            \"cooldown_index\": 3,\n",
      "            \"is_gestating\": false,\n",
      "            \"is_ready\": true\n",
      "        }\n",
      "    },\n",
      "    \"name\": \"Cathena\",\n",
      "    \"owner\": {\n",
      "        \"address\": \"0xfe8e8cb528f91f5ec0d2eeab7b37efc2dd70aedb\"\n",
      "    },\n",
      "    \"prestige_ranking\": null,\n",
      "    \"prestige_time_limit\": null,\n",
      "    \"prestige_type\": null,\n",
      "    \"purrs\": {\n",
      "        \"count\": 605,\n",
      "        \"is_purred\": false\n",
      "    },\n",
      "    \"sire\": {\n",
      "        \"color\": \"strawberry\",\n",
      "        \"created_at\": \"2018-01-21T09:46:21Z\",\n",
      "        \"generation\": 2,\n",
      "        \"id\": 474593,\n",
      "        \"image_url\": \"https://img.cryptokitties.co/0x06012c8cf97bead5deae237070f9587f8e7a266d/474593.svg\",\n",
      "        \"image_url_cdn\": \"https://img.cn.cryptokitties.co/0x06012c8cf97bead5deae237070f9587f8e7a266d/474593.svg\",\n",
      "        \"image_url_png\": \"https://img.cryptokitties.co/0x06012c8cf97bead5deae237070f9587f8e7a266d/474593.png\",\n",
      "        \"is_exclusive\": false,\n",
      "        \"is_fancy\": false,\n",
      "        \"language\": \"en\",\n",
      "        \"name\": \"Cathena - Parent 1\",\n",
      "        \"owner\": {\n",
      "            \"address\": \"0xb8ee8b4f54dcbd8fbba37ba575f215aef019368e\"\n",
      "        },\n",
      "        \"status\": {\n",
      "            \"cooldown\": 1521579061354,\n",
      "            \"cooldown_index\": 2,\n",
      "            \"is_gestating\": false,\n",
      "            \"is_ready\": true\n",
      "        }\n",
      "    },\n",
      "    \"status\": {\n",
      "        \"cooldown\": 1524017053775,\n",
      "        \"cooldown_index\": 8,\n",
      "        \"is_gestating\": false,\n",
      "        \"is_ready\": true\n",
      "    },\n",
      "    \"watchlist\": {\n",
      "        \"count\": 0,\n",
      "        \"is_watchlisted\": false\n",
      "    }\n",
      "}\n"
     ]
    }
   ],
   "source": [
    "import json\n",
    "parsed = json.loads(response.text)\n",
    "print(json.dumps(parsed, indent=4, sort_keys=True))"
   ]
  },
  {
   "cell_type": "code",
   "execution_count": 101,
   "metadata": {},
   "outputs": [
    {
     "data": {
      "text/plain": [
       "{'id': 500000,\n",
       " 'name': 'Cathena',\n",
       " 'bio': 'Morning, sunshine! Iâ€™m #{name}. Do you believe in fate? Because I have seen us in the wind and clouds, and every raindrop called your name. Then again, fate also foretold that I would become an elemental avatar, growing in power with each living death. Who knows though, right? Teehee.',\n",
       " 'image_url': 'https://img.cryptokitties.co/0x06012c8cf97bead5deae237070f9587f8e7a266d/500000.png',\n",
       " 'image_url_cdn': 'https://img.cn.cryptokitties.co/0x06012c8cf97bead5deae237070f9587f8e7a266d/500000.png',\n",
       " 'image_url_png': 'https://img.cryptokitties.co/0x06012c8cf97bead5deae237070f9587f8e7a266d/500000.png',\n",
       " 'image_path': '',\n",
       " 'generation': 3,\n",
       " 'created_at': '2018-02-06T14:50:28Z',\n",
       " 'color': 'thundergrey',\n",
       " 'is_fancy': True,\n",
       " 'is_exclusive': True,\n",
       " 'fancy_type': 'Cathena',\n",
       " 'language': 'en',\n",
       " 'enhanced_cattributes': [],\n",
       " 'status': {'cooldown': 1524017053775,\n",
       "  'cooldown_index': 8,\n",
       "  'is_ready': True,\n",
       "  'is_gestating': False},\n",
       " 'purrs': {'count': 605, 'is_purred': False},\n",
       " 'watchlist': {'count': 0, 'is_watchlisted': False},\n",
       " 'hatched': True,\n",
       " 'is_prestige': False,\n",
       " 'prestige_type': None,\n",
       " 'prestige_ranking': None,\n",
       " 'fancy_ranking': 1,\n",
       " 'prestige_time_limit': None,\n",
       " 'auction': {},\n",
       " 'matron': {'id': 476349,\n",
       "  'name': 'Cathena - Parent 2',\n",
       "  'image_url': 'https://img.cryptokitties.co/0x06012c8cf97bead5deae237070f9587f8e7a266d/476349.svg',\n",
       "  'image_url_cdn': 'https://img.cn.cryptokitties.co/0x06012c8cf97bead5deae237070f9587f8e7a266d/476349.svg',\n",
       "  'image_url_png': 'https://img.cryptokitties.co/0x06012c8cf97bead5deae237070f9587f8e7a266d/476349.png',\n",
       "  'generation': 2,\n",
       "  'created_at': '2018-01-22T08:50:39Z',\n",
       "  'color': 'sizzurp',\n",
       "  'is_fancy': False,\n",
       "  'is_exclusive': False,\n",
       "  'language': 'en',\n",
       "  'status': {'cooldown': 1521579566415,\n",
       "   'cooldown_index': 3,\n",
       "   'is_ready': True,\n",
       "   'is_gestating': False},\n",
       "  'owner': {'address': '0xb8ee8b4f54dcbd8fbba37ba575f215aef019368e'}},\n",
       " 'sire': {'id': 474593,\n",
       "  'name': 'Cathena - Parent 1',\n",
       "  'image_url': 'https://img.cryptokitties.co/0x06012c8cf97bead5deae237070f9587f8e7a266d/474593.svg',\n",
       "  'image_url_cdn': 'https://img.cn.cryptokitties.co/0x06012c8cf97bead5deae237070f9587f8e7a266d/474593.svg',\n",
       "  'image_url_png': 'https://img.cryptokitties.co/0x06012c8cf97bead5deae237070f9587f8e7a266d/474593.png',\n",
       "  'generation': 2,\n",
       "  'created_at': '2018-01-21T09:46:21Z',\n",
       "  'color': 'strawberry',\n",
       "  'is_fancy': False,\n",
       "  'is_exclusive': False,\n",
       "  'language': 'en',\n",
       "  'status': {'cooldown': 1521579061354,\n",
       "   'cooldown_index': 2,\n",
       "   'is_ready': True,\n",
       "   'is_gestating': False},\n",
       "  'owner': {'address': '0xb8ee8b4f54dcbd8fbba37ba575f215aef019368e'}},\n",
       " 'owner': {'address': '0xfe8e8cb528f91f5ec0d2eeab7b37efc2dd70aedb'}}"
      ]
     },
     "execution_count": 101,
     "metadata": {},
     "output_type": "execute_result"
    }
   ],
   "source": [
    "parsed"
   ]
  },
  {
   "cell_type": "code",
   "execution_count": 103,
   "metadata": {},
   "outputs": [
    {
     "data": {
      "text/plain": [
       "False"
      ]
     },
     "execution_count": 103,
     "metadata": {},
     "output_type": "execute_result"
    }
   ],
   "source": [
    "# Random\n",
    "parsed['generation']\n",
    "parsed['color']\n",
    "parsed['is_fancy']\n",
    "parsed['is_exclusive']\n",
    "parsed['fancy_type']\n",
    "parsed['is_prestige']\n",
    "parsed['prestige_type']\n",
    "parsed['prestige_ranking']\n",
    "parsed['fancy_ranking']\n",
    "parsed['prestige_time_limit']\n",
    "\n",
    "# Enhanced cattributes\n",
    "parsed['enhanced_cattributes'][0]['description'] # eyes\n",
    "parsed['enhanced_cattributes'][1]['description'] # pattern\n",
    "parsed['enhanced_cattributes'][2]['description'] # body\n",
    "parsed['enhanced_cattributes'][3]['description'] # mouth\n",
    "parsed['enhanced_cattributes'][4]['description'] # colorprimary\n",
    "parsed['enhanced_cattributes'][5]['description'] # colorsecondary\n",
    "parsed['enhanced_cattributes'][6]['description'] # colortertiary\n",
    "parsed['enhanced_cattributes'][7]['description'] # coloreyes\n",
    "\n",
    "# Status\n",
    "parsed['status']['cooldown_index']\n",
    "parsed['status']['is_ready']\n",
    "parsed['status']['is_gestating']\n",
    "\n",
    "# Purrs\n",
    "parsed['purrs']['count']\n",
    "parsed['purrs']['is_purred']\n",
    "\n",
    "# watchlist\n",
    "parsed['watchlist']['count']\n",
    "parsed['watchlist']['is_watchlisted']"
   ]
  },
  {
   "cell_type": "code",
   "execution_count": 81,
   "metadata": {},
   "outputs": [
    {
     "data": {
      "text/plain": [
       "'soserious'"
      ]
     },
     "execution_count": 81,
     "metadata": {},
     "output_type": "execute_result"
    }
   ],
   "source": [
    "parsed['enhanced_cattributes'][0]['description']"
   ]
  },
  {
   "cell_type": "code",
   "execution_count": 23,
   "metadata": {},
   "outputs": [
    {
     "data": {
      "text/plain": [
       "5"
      ]
     },
     "execution_count": 23,
     "metadata": {},
     "output_type": "execute_result"
    }
   ],
   "source": [
    "parsed['status']['cooldown_index']"
   ]
  },
  {
   "cell_type": "code",
   "execution_count": null,
   "metadata": {},
   "outputs": [],
   "source": []
  }
 ],
 "metadata": {
  "kernelspec": {
   "display_name": "Python 3",
   "language": "python",
   "name": "python3"
  },
  "language_info": {
   "codemirror_mode": {
    "name": "ipython",
    "version": 3
   },
   "file_extension": ".py",
   "mimetype": "text/x-python",
   "name": "python",
   "nbconvert_exporter": "python",
   "pygments_lexer": "ipython3",
   "version": "3.6.8"
  }
 },
 "nbformat": 4,
 "nbformat_minor": 2
}
