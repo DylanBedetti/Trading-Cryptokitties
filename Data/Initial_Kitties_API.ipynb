{
 "cells": [
  {
   "cell_type": "code",
   "execution_count": 94,
   "metadata": {},
   "outputs": [
    {
     "data": {
      "text/html": [
       "<div>\n",
       "<style scoped>\n",
       "    .dataframe tbody tr th:only-of-type {\n",
       "        vertical-align: middle;\n",
       "    }\n",
       "\n",
       "    .dataframe tbody tr th {\n",
       "        vertical-align: top;\n",
       "    }\n",
       "\n",
       "    .dataframe thead th {\n",
       "        text-align: right;\n",
       "    }\n",
       "</style>\n",
       "<table border=\"1\" class=\"dataframe\">\n",
       "  <thead>\n",
       "    <tr style=\"text-align: right;\">\n",
       "      <th></th>\n",
       "      <th>time</th>\n",
       "      <th>ID</th>\n",
       "      <th>USD</th>\n",
       "    </tr>\n",
       "  </thead>\n",
       "  <tbody>\n",
       "    <tr>\n",
       "      <th>0</th>\n",
       "      <td>2019-06-30T02:21:40.000Z</td>\n",
       "      <td>1632691</td>\n",
       "      <td>0.96</td>\n",
       "    </tr>\n",
       "    <tr>\n",
       "      <th>1</th>\n",
       "      <td>2019-06-30T02:16:25.000Z</td>\n",
       "      <td>1093660</td>\n",
       "      <td>0.40</td>\n",
       "    </tr>\n",
       "    <tr>\n",
       "      <th>2</th>\n",
       "      <td>2019-06-30T02:05:20.000Z</td>\n",
       "      <td>1063243</td>\n",
       "      <td>0.38</td>\n",
       "    </tr>\n",
       "    <tr>\n",
       "      <th>3</th>\n",
       "      <td>2019-06-30T02:04:43.000Z</td>\n",
       "      <td>1043057</td>\n",
       "      <td>0.39</td>\n",
       "    </tr>\n",
       "    <tr>\n",
       "      <th>4</th>\n",
       "      <td>2019-06-30T01:45:54.000Z</td>\n",
       "      <td>1634788</td>\n",
       "      <td>14.65</td>\n",
       "    </tr>\n",
       "  </tbody>\n",
       "</table>\n",
       "</div>"
      ],
      "text/plain": [
       "                       time       ID    USD\n",
       "0  2019-06-30T02:21:40.000Z  1632691   0.96\n",
       "1  2019-06-30T02:16:25.000Z  1093660   0.40\n",
       "2  2019-06-30T02:05:20.000Z  1063243   0.38\n",
       "3  2019-06-30T02:04:43.000Z  1043057   0.39\n",
       "4  2019-06-30T01:45:54.000Z  1634788  14.65"
      ]
     },
     "execution_count": 94,
     "metadata": {},
     "output_type": "execute_result"
    }
   ],
   "source": [
    "import pandas as pd\n",
    "import requests\n",
    "import json\n",
    "import warnings\n",
    "warnings.filterwarnings('ignore')\n",
    "\n",
    "pd.set_option('max_columns', 30)\n",
    "\n",
    "    \n",
    "data = pd.read_csv('train_dense.csv')\n",
    "data.head()"
   ]
  },
  {
   "cell_type": "code",
   "execution_count": 95,
   "metadata": {},
   "outputs": [
    {
     "name": "stdout",
     "output_type": "stream",
     "text": [
      "<class 'pandas.core.frame.DataFrame'>\n",
      "RangeIndex: 50589 entries, 0 to 50588\n",
      "Data columns (total 3 columns):\n",
      "time    50589 non-null object\n",
      "ID      50589 non-null int64\n",
      "USD     50589 non-null float64\n",
      "dtypes: float64(1), int64(1), object(1)\n",
      "memory usage: 1.2+ MB\n"
     ]
    }
   ],
   "source": [
    "data.info()"
   ]
  },
  {
   "cell_type": "code",
   "execution_count": 105,
   "metadata": {},
   "outputs": [
    {
     "name": "stdout",
     "output_type": "stream",
     "text": [
      "49\r"
     ]
    }
   ],
   "source": [
    "# Random\n",
    "data['generation'] = ''\n",
    "data['color'] = ''\n",
    "data['is_fancy'] = ''\n",
    "data['is_exclusive'] = ''\n",
    "data['fancy_type'] = ''\n",
    "data['is_prestige'] = ''\n",
    "data['prestige_type'] = ''\n",
    "data['prestige_ranking'] = ''\n",
    "data['fancy_ranking'] = ''\n",
    "data['prestige_time_limit'] = ''\n",
    "\n",
    "# Enhanced cattributes\n",
    "data['enhanced_cattributes_eyes'] = '' \n",
    "data['enhanced_cattributes_pattern'] = '' \n",
    "data['enhanced_cattributes_body'] = '' \n",
    "data['enhanced_cattributes_mouth'] = '' \n",
    "data['enhanced_cattributes_colorprimary'] = '' \n",
    "data['enhanced_cattributes_colorsecondary'] = '' \n",
    "data['enhanced_cattributes_colortertiary'] = '' \n",
    "data['enhanced_cattributes_coloreyes'] = '' \n",
    "\n",
    "# Status\n",
    "data['status_cooldown_index'] = ''\n",
    "data['status_is_ready'] = ''\n",
    "data['status_is_gestating'] = ''\n",
    "\n",
    "# Purrs\n",
    "data['purrs_count'] = ''\n",
    "data['purrs_is_purred'] = ''\n",
    "\n",
    "# watchlist\n",
    "data['watchlist_count'] = ''\n",
    "data['watchlist_is_watchlisted'] = ''\n",
    "\n",
    "\n",
    "payload = {}\n",
    "headers = {\n",
    "  'x-api-token': 'w-5V-v6V__trBl7yxGMXnwhLiGkq-03XnCVNaKePPd4',\n",
    "  'Content-Type': 'application/json',\n",
    "}\n",
    "\n",
    "for k in range(50):\n",
    "    url = 'https://public.api.cryptokitties.co/v1/kitties/{}'.format(data.iloc[k, 1])\n",
    "    \n",
    "    response = requests.request('GET', url, headers = headers, data = payload, allow_redirects=False)\n",
    "    \n",
    "    parsed = json.loads(response.text)\n",
    "    \n",
    "    # Random\n",
    "    data['generation'][k] = parsed['generation']\n",
    "    data['color'][k] = parsed['color']\n",
    "    data['is_fancy'][k] = parsed['is_fancy']\n",
    "    data['is_exclusive'][k] = parsed['is_exclusive']\n",
    "    data['fancy_type'][k] = parsed['fancy_type']\n",
    "    data['is_prestige'][k] = parsed['is_prestige']\n",
    "    data['prestige_type'][k] = parsed['prestige_type']\n",
    "    data['prestige_ranking'][k] = parsed['prestige_ranking']\n",
    "    data['fancy_ranking'][k] = parsed['fancy_ranking']\n",
    "    data['prestige_time_limit'][k] = parsed['prestige_time_limit']\n",
    "    \n",
    "    # Enhanced cattributes\n",
    "    if parsed['enhanced_cattributes'] != []:\n",
    "        data['enhanced_cattributes_eyes'][k] = parsed['enhanced_cattributes'][0]['description']\n",
    "        data['enhanced_cattributes_pattern'][k] = parsed['enhanced_cattributes'][1]['description']\n",
    "        data['enhanced_cattributes_body'][k] = parsed['enhanced_cattributes'][2]['description']\n",
    "        data['enhanced_cattributes_mouth'][k] = parsed['enhanced_cattributes'][3]['description']\n",
    "        data['enhanced_cattributes_colorprimary'][k] = parsed['enhanced_cattributes'][4]['description']\n",
    "        data['enhanced_cattributes_colorsecondary'][k] = parsed['enhanced_cattributes'][5]['description']\n",
    "        data['enhanced_cattributes_colortertiary'][k] = parsed['enhanced_cattributes'][6]['description'] \n",
    "        data['enhanced_cattributes_coloreyes'][k] = parsed['enhanced_cattributes'][7]['description']\n",
    "\n",
    "    # Status\n",
    "    data['status_cooldown_index'][k] = parsed['status']['cooldown_index']\n",
    "    data['status_is_ready'][k] = parsed['status']['is_ready']\n",
    "    data['status_is_gestating'][k] = parsed['status']['is_gestating']\n",
    "\n",
    "    # Purrs\n",
    "    data['purrs_count'][k] = parsed['purrs']['count']\n",
    "    data['purrs_is_purred'][k] = parsed['purrs']['is_purred']\n",
    "\n",
    "    # watchlist\n",
    "    data['watchlist_count'][k] = parsed['watchlist']['count']\n",
    "    data['watchlist_is_watchlisted'][k] = parsed['watchlist']['is_watchlisted']\n",
    "    \n",
    "    if k % 20 == 0:\n",
    "        data.to_csv('train_dense_new1.csv', index = False)\n",
    "    \n",
    "    print(k, end = \"\\r\")"
   ]
  },
  {
   "cell_type": "code",
   "execution_count": 104,
   "metadata": {},
   "outputs": [],
   "source": [
    "data.to_csv('train_dense_new.csv', index = False)"
   ]
  },
  {
   "cell_type": "code",
   "execution_count": 99,
   "metadata": {},
   "outputs": [
    {
     "name": "stdout",
     "output_type": "stream",
     "text": [
      "{\"id\":500000,\"name\":\"Cathena\",\"bio\":\"Morning, sunshine! Iâ€™m #{name}. Do you believe in fate? Because I have seen us in the wind and clouds, and every raindrop called your name. Then again, fate also foretold that I would become an elemental avatar, growing in power with each living death. Who knows though, right? Teehee.\",\"image_url\":\"https://img.cryptokitties.co/0x06012c8cf97bead5deae237070f9587f8e7a266d/500000.png\",\"image_url_cdn\":\"https://img.cn.cryptokitties.co/0x06012c8cf97bead5deae237070f9587f8e7a266d/500000.png\",\"image_url_png\":\"https://img.cryptokitties.co/0x06012c8cf97bead5deae237070f9587f8e7a266d/500000.png\",\"image_path\":\"\",\"generation\":3,\"created_at\":\"2018-02-06T14:50:28Z\",\"color\":\"thundergrey\",\"is_fancy\":true,\"is_exclusive\":true,\"fancy_type\":\"Cathena\",\"language\":\"en\",\"enhanced_cattributes\":[],\"status\":{\"cooldown\":1524017053775,\"cooldown_index\":8,\"is_ready\":true,\"is_gestating\":false},\"purrs\":{\"count\":605,\"is_purred\":false},\"watchlist\":{\"count\":0,\"is_watchlisted\":false},\"hatched\":true,\"is_prestige\":false,\"prestige_type\":null,\"prestige_ranking\":null,\"fancy_ranking\":1,\"prestige_time_limit\":null,\"auction\":{},\"matron\":{\"id\":476349,\"name\":\"Cathena - Parent 2\",\"image_url\":\"https://img.cryptokitties.co/0x06012c8cf97bead5deae237070f9587f8e7a266d/476349.svg\",\"image_url_cdn\":\"https://img.cn.cryptokitties.co/0x06012c8cf97bead5deae237070f9587f8e7a266d/476349.svg\",\"image_url_png\":\"https://img.cryptokitties.co/0x06012c8cf97bead5deae237070f9587f8e7a266d/476349.png\",\"generation\":2,\"created_at\":\"2018-01-22T08:50:39Z\",\"color\":\"sizzurp\",\"is_fancy\":false,\"is_exclusive\":false,\"language\":\"en\",\"status\":{\"cooldown\":1521579566415,\"cooldown_index\":3,\"is_ready\":true,\"is_gestating\":false},\"owner\":{\"address\":\"0xb8ee8b4f54dcbd8fbba37ba575f215aef019368e\"}},\"sire\":{\"id\":474593,\"name\":\"Cathena - Parent 1\",\"image_url\":\"https://img.cryptokitties.co/0x06012c8cf97bead5deae237070f9587f8e7a266d/474593.svg\",\"image_url_cdn\":\"https://img.cn.cryptokitties.co/0x06012c8cf97bead5deae237070f9587f8e7a266d/474593.svg\",\"image_url_png\":\"https://img.cryptokitties.co/0x06012c8cf97bead5deae237070f9587f8e7a266d/474593.png\",\"generation\":2,\"created_at\":\"2018-01-21T09:46:21Z\",\"color\":\"strawberry\",\"is_fancy\":false,\"is_exclusive\":false,\"language\":\"en\",\"status\":{\"cooldown\":1521579061354,\"cooldown_index\":2,\"is_ready\":true,\"is_gestating\":false},\"owner\":{\"address\":\"0xb8ee8b4f54dcbd8fbba37ba575f215aef019368e\"}},\"owner\":{\"address\":\"0xfe8e8cb528f91f5ec0d2eeab7b37efc2dd70aedb\"}}\n",
      "\n"
     ]
    }
   ],
   "source": [
    "import requests\n",
    "url = 'https://public.api.cryptokitties.co/v1/kitties/500000'\n",
    "\n",
    "payload = {}\n",
    "headers = {\n",
    "  'x-api-token': 'w-5V-v6V__trBl7yxGMXnwhLiGkq-03XnCVNaKePPd4',\n",
    "  'Content-Type': 'application/json',\n",
    "}\n",
    "\n",
    "response = requests.request('GET', url, headers = headers, data = payload, allow_redirects=False)\n",
    "print(response.text)"
   ]
  },
  {
   "cell_type": "code",
   "execution_count": 100,
   "metadata": {},
   "outputs": [
    {
     "name": "stdout",
     "output_type": "stream",
     "text": [
      "{\n",
      "    \"auction\": {},\n",
      "    \"bio\": \"Morning, sunshine! I\\u00e2\\u20ac\\u2122m #{name}. Do you believe in fate? Because I have seen us in the wind and clouds, and every raindrop called your name. Then again, fate also foretold that I would become an elemental avatar, growing in power with each living death. Who knows though, right? Teehee.\",\n",
      "    \"color\": \"thundergrey\",\n",
      "    \"created_at\": \"2018-02-06T14:50:28Z\",\n",
      "    \"enhanced_cattributes\": [],\n",
      "    \"fancy_ranking\": 1,\n",
      "    \"fancy_type\": \"Cathena\",\n",
      "    \"generation\": 3,\n",
      "    \"hatched\": true,\n",
      "    \"id\": 500000,\n",
      "    \"image_path\": \"\",\n",
      "    \"image_url\": \"https://img.cryptokitties.co/0x06012c8cf97bead5deae237070f9587f8e7a266d/500000.png\",\n",
      "    \"image_url_cdn\": \"https://img.cn.cryptokitties.co/0x06012c8cf97bead5deae237070f9587f8e7a266d/500000.png\",\n",
      "    \"image_url_png\": \"https://img.cryptokitties.co/0x06012c8cf97bead5deae237070f9587f8e7a266d/500000.png\",\n",
      "    \"is_exclusive\": true,\n",
      "    \"is_fancy\": true,\n",
      "    \"is_prestige\": false,\n",
      "    \"language\": \"en\",\n",
      "    \"matron\": {\n",
      "        \"color\": \"sizzurp\",\n",
      "        \"created_at\": \"2018-01-22T08:50:39Z\",\n",
      "        \"generation\": 2,\n",
      "        \"id\": 476349,\n",
      "        \"image_url\": \"https://img.cryptokitties.co/0x06012c8cf97bead5deae237070f9587f8e7a266d/476349.svg\",\n",
      "        \"image_url_cdn\": \"https://img.cn.cryptokitties.co/0x06012c8cf97bead5deae237070f9587f8e7a266d/476349.svg\",\n",
      "        \"image_url_png\": \"https://img.cryptokitties.co/0x06012c8cf97bead5deae237070f9587f8e7a266d/476349.png\",\n",
      "        \"is_exclusive\": false,\n",
      "        \"is_fancy\": false,\n",
      "        \"language\": \"en\",\n",
      "        \"name\": \"Cathena - Parent 2\",\n",
      "        \"owner\": {\n",
      "            \"address\": \"0xb8ee8b4f54dcbd8fbba37ba575f215aef019368e\"\n",
      "        },\n",
      "        \"status\": {\n",
      "            \"cooldown\": 1521579566415,\n",
      "            \"cooldown_index\": 3,\n",
      "            \"is_gestating\": false,\n",
      "            \"is_ready\": true\n",
      "        }\n",
      "    },\n",
      "    \"name\": \"Cathena\",\n",
      "    \"owner\": {\n",
      "        \"address\": \"0xfe8e8cb528f91f5ec0d2eeab7b37efc2dd70aedb\"\n",
      "    },\n",
      "    \"prestige_ranking\": null,\n",
      "    \"prestige_time_limit\": null,\n",
      "    \"prestige_type\": null,\n",
      "    \"purrs\": {\n",
      "        \"count\": 605,\n",
      "        \"is_purred\": false\n",
      "    },\n",
      "    \"sire\": {\n",
      "        \"color\": \"strawberry\",\n",
      "        \"created_at\": \"2018-01-21T09:46:21Z\",\n",
      "        \"generation\": 2,\n",
      "        \"id\": 474593,\n",
      "        \"image_url\": \"https://img.cryptokitties.co/0x06012c8cf97bead5deae237070f9587f8e7a266d/474593.svg\",\n",
      "        \"image_url_cdn\": \"https://img.cn.cryptokitties.co/0x06012c8cf97bead5deae237070f9587f8e7a266d/474593.svg\",\n",
      "        \"image_url_png\": \"https://img.cryptokitties.co/0x06012c8cf97bead5deae237070f9587f8e7a266d/474593.png\",\n",
      "        \"is_exclusive\": false,\n",
      "        \"is_fancy\": false,\n",
      "        \"language\": \"en\",\n",
      "        \"name\": \"Cathena - Parent 1\",\n",
      "        \"owner\": {\n",
      "            \"address\": \"0xb8ee8b4f54dcbd8fbba37ba575f215aef019368e\"\n",
      "        },\n",
      "        \"status\": {\n",
      "            \"cooldown\": 1521579061354,\n",
      "            \"cooldown_index\": 2,\n",
      "            \"is_gestating\": false,\n",
      "            \"is_ready\": true\n",
      "        }\n",
      "    },\n",
      "    \"status\": {\n",
      "        \"cooldown\": 1524017053775,\n",
      "        \"cooldown_index\": 8,\n",
      "        \"is_gestating\": false,\n",
      "        \"is_ready\": true\n",
      "    },\n",
      "    \"watchlist\": {\n",
      "        \"count\": 0,\n",
      "        \"is_watchlisted\": false\n",
      "    }\n",
      "}\n"
     ]
    }
   ],
   "source": [
    "import json\n",
    "parsed = json.loads(response.text)\n",
    "print(json.dumps(parsed, indent=4, sort_keys=True))"
   ]
  },
  {
   "cell_type": "code",
   "execution_count": 101,
   "metadata": {},
   "outputs": [
    {
     "data": {
      "text/plain": [
       "{'id': 500000,\n",
       " 'name': 'Cathena',\n",
       " 'bio': 'Morning, sunshine! Iâ€™m #{name}. Do you believe in fate? Because I have seen us in the wind and clouds, and every raindrop called your name. Then again, fate also foretold that I would become an elemental avatar, growing in power with each living death. Who knows though, right? Teehee.',\n",
       " 'image_url': 'https://img.cryptokitties.co/0x06012c8cf97bead5deae237070f9587f8e7a266d/500000.png',\n",
       " 'image_url_cdn': 'https://img.cn.cryptokitties.co/0x06012c8cf97bead5deae237070f9587f8e7a266d/500000.png',\n",
       " 'image_url_png': 'https://img.cryptokitties.co/0x06012c8cf97bead5deae237070f9587f8e7a266d/500000.png',\n",
       " 'image_path': '',\n",
       " 'generation': 3,\n",
       " 'created_at': '2018-02-06T14:50:28Z',\n",
       " 'color': 'thundergrey',\n",
       " 'is_fancy': True,\n",
       " 'is_exclusive': True,\n",
       " 'fancy_type': 'Cathena',\n",
       " 'language': 'en',\n",
       " 'enhanced_cattributes': [],\n",
       " 'status': {'cooldown': 1524017053775,\n",
       "  'cooldown_index': 8,\n",
       "  'is_ready': True,\n",
       "  'is_gestating': False},\n",
       " 'purrs': {'count': 605, 'is_purred': False},\n",
       " 'watchlist': {'count': 0, 'is_watchlisted': False},\n",
       " 'hatched': True,\n",
       " 'is_prestige': False,\n",
       " 'prestige_type': None,\n",
       " 'prestige_ranking': None,\n",
       " 'fancy_ranking': 1,\n",
       " 'prestige_time_limit': None,\n",
       " 'auction': {},\n",
       " 'matron': {'id': 476349,\n",
       "  'name': 'Cathena - Parent 2',\n",
       "  'image_url': 'https://img.cryptokitties.co/0x06012c8cf97bead5deae237070f9587f8e7a266d/476349.svg',\n",
       "  'image_url_cdn': 'https://img.cn.cryptokitties.co/0x06012c8cf97bead5deae237070f9587f8e7a266d/476349.svg',\n",
       "  'image_url_png': 'https://img.cryptokitties.co/0x06012c8cf97bead5deae237070f9587f8e7a266d/476349.png',\n",
       "  'generation': 2,\n",
       "  'created_at': '2018-01-22T08:50:39Z',\n",
       "  'color': 'sizzurp',\n",
       "  'is_fancy': False,\n",
       "  'is_exclusive': False,\n",
       "  'language': 'en',\n",
       "  'status': {'cooldown': 1521579566415,\n",
       "   'cooldown_index': 3,\n",
       "   'is_ready': True,\n",
       "   'is_gestating': False},\n",
       "  'owner': {'address': '0xb8ee8b4f54dcbd8fbba37ba575f215aef019368e'}},\n",
       " 'sire': {'id': 474593,\n",
       "  'name': 'Cathena - Parent 1',\n",
       "  'image_url': 'https://img.cryptokitties.co/0x06012c8cf97bead5deae237070f9587f8e7a266d/474593.svg',\n",
       "  'image_url_cdn': 'https://img.cn.cryptokitties.co/0x06012c8cf97bead5deae237070f9587f8e7a266d/474593.svg',\n",
       "  'image_url_png': 'https://img.cryptokitties.co/0x06012c8cf97bead5deae237070f9587f8e7a266d/474593.png',\n",
       "  'generation': 2,\n",
       "  'created_at': '2018-01-21T09:46:21Z',\n",
       "  'color': 'strawberry',\n",
       "  'is_fancy': False,\n",
       "  'is_exclusive': False,\n",
       "  'language': 'en',\n",
       "  'status': {'cooldown': 1521579061354,\n",
       "   'cooldown_index': 2,\n",
       "   'is_ready': True,\n",
       "   'is_gestating': False},\n",
       "  'owner': {'address': '0xb8ee8b4f54dcbd8fbba37ba575f215aef019368e'}},\n",
       " 'owner': {'address': '0xfe8e8cb528f91f5ec0d2eeab7b37efc2dd70aedb'}}"
      ]
     },
     "execution_count": 101,
     "metadata": {},
     "output_type": "execute_result"
    }
   ],
   "source": [
    "parsed"
   ]
  },
  {
   "cell_type": "code",
   "execution_count": 103,
   "metadata": {},
   "outputs": [
    {
     "data": {
      "text/plain": [
       "False"
      ]
     },
     "execution_count": 103,
     "metadata": {},
     "output_type": "execute_result"
    }
   ],
   "source": [
    "# Random\n",
    "parsed['generation']\n",
    "parsed['color']\n",
    "parsed['is_fancy']\n",
    "parsed['is_exclusive']\n",
    "parsed['fancy_type']\n",
    "parsed['is_prestige']\n",
    "parsed['prestige_type']\n",
    "parsed['prestige_ranking']\n",
    "parsed['fancy_ranking']\n",
    "parsed['prestige_time_limit']\n",
    "\n",
    "# Enhanced cattributes\n",
    "parsed['enhanced_cattributes'][0]['description'] # eyes\n",
    "parsed['enhanced_cattributes'][1]['description'] # pattern\n",
    "parsed['enhanced_cattributes'][2]['description'] # body\n",
    "parsed['enhanced_cattributes'][3]['description'] # mouth\n",
    "parsed['enhanced_cattributes'][4]['description'] # colorprimary\n",
    "parsed['enhanced_cattributes'][5]['description'] # colorsecondary\n",
    "parsed['enhanced_cattributes'][6]['description'] # colortertiary\n",
    "parsed['enhanced_cattributes'][7]['description'] # coloreyes\n",
    "\n",
    "# Status\n",
    "parsed['status']['cooldown_index']\n",
    "parsed['status']['is_ready']\n",
    "parsed['status']['is_gestating']\n",
    "\n",
    "# Purrs\n",
    "parsed['purrs']['count']\n",
    "parsed['purrs']['is_purred']\n",
    "\n",
    "# watchlist\n",
    "parsed['watchlist']['count']\n",
    "parsed['watchlist']['is_watchlisted']"
   ]
  },
  {
   "cell_type": "code",
   "execution_count": 81,
   "metadata": {},
   "outputs": [
    {
     "data": {
      "text/plain": [
       "'soserious'"
      ]
     },
     "execution_count": 81,
     "metadata": {},
     "output_type": "execute_result"
    }
   ],
   "source": [
    "parsed['enhanced_cattributes'][0]['description']"
   ]
  },
  {
   "cell_type": "code",
   "execution_count": 23,
   "metadata": {},
   "outputs": [
    {
     "data": {
      "text/plain": [
       "5"
      ]
     },
     "execution_count": 23,
     "metadata": {},
     "output_type": "execute_result"
    }
   ],
   "source": [
    "parsed['status']['cooldown_index']"
   ]
  },
  {
   "cell_type": "code",
   "execution_count": null,
   "metadata": {},
   "outputs": [],
   "source": []
  }
 ],
 "metadata": {
  "kernelspec": {
   "display_name": "Python 3",
   "language": "python",
   "name": "python3"
  },
  "language_info": {
   "codemirror_mode": {
    "name": "ipython",
    "version": 3
   },
   "file_extension": ".py",
   "mimetype": "text/x-python",
   "name": "python",
   "nbconvert_exporter": "python",
   "pygments_lexer": "ipython3",
   "version": "3.6.8"
  }
 },
 "nbformat": 4,
 "nbformat_minor": 2
}
