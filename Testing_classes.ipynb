{
 "cells": [
  {
   "cell_type": "code",
   "execution_count": 1,
   "metadata": {},
   "outputs": [],
   "source": [
    "from Crawler.Kitties_for_sale import Update_kitties_for_sale"
   ]
  },
  {
   "cell_type": "code",
   "execution_count": 2,
   "metadata": {},
   "outputs": [],
   "source": [
    "kitties = Update_kitties_for_sale()"
   ]
  },
  {
   "cell_type": "code",
   "execution_count": null,
   "metadata": {},
   "outputs": [
    {
     "name": "stdout",
     "output_type": "stream",
     "text": [
      "step: 0 out of: 53   Number of files: 0\n",
      "step: 1 out of: 53   Number of files: 10\n",
      "step: 2 out of: 53   Number of files: 20\n",
      "step: 3 out of: 53   Number of files: 30\n",
      "step: 4 out of: 53   Number of files: 40\n",
      "step: 5 out of: 53   Number of files: 50\n",
      "step: 6 out of: 53   Number of files: 60\n",
      "step: 7 out of: 53   Number of files: 70\n",
      "step: 8 out of: 53   Number of files: 80\n",
      "step: 9 out of: 53   Number of files: 90\n",
      "step: 10 out of: 53   Number of files: 100\n",
      "step: 11 out of: 53   Number of files: 110\n",
      "step: 12 out of: 53   Number of files: 120\n",
      "step: 13 out of: 53   Number of files: 130\n",
      "step: 14 out of: 53   Number of files: 140\n",
      "step: 15 out of: 53   Number of files: 150\n",
      "step: 16 out of: 53   Number of files: 160\n",
      "step: 17 out of: 53   Number of files: 170\n",
      "step: 18 out of: 53   Number of files: 180\n",
      "step: 19 out of: 53   Number of files: 190\n",
      "step: 20 out of: 53   Number of files: 200\n",
      "step: 21 out of: 53   Number of files: 210\n",
      "step: 22 out of: 53   Number of files: 220\n",
      "step: 23 out of: 53   Number of files: 230\n",
      "step: 24 out of: 53   Number of files: 240\n",
      "step: 25 out of: 53   Number of files: 250\n",
      "step: 26 out of: 53   Number of files: 260\n",
      "step: 27 out of: 53   Number of files: 270\n",
      "step: 28 out of: 53   Number of files: 280\n",
      "step: 29 out of: 53   Number of files: 290\n",
      "step: 30 out of: 53   Number of files: 300\n",
      "step: 31 out of: 53   Number of files: 310\n",
      "step: 32 out of: 53   Number of files: 320\n",
      "step: 33 out of: 53   Number of files: 330\n",
      "step: 34 out of: 53   Number of files: 340\n",
      "step: 35 out of: 53   Number of files: 350\n",
      "step: 36 out of: 53   Number of files: 360\n",
      "step: 37 out of: 53   Number of files: 370\n",
      "step: 38 out of: 53   Number of files: 380\n",
      "step: 39 out of: 53   Number of files: 390\n",
      "step: 40 out of: 53   Number of files: 400\n",
      "step: 41 out of: 53   Number of files: 410\n",
      "step: 42 out of: 53   Number of files: 420\n",
      "step: 43 out of: 53   Number of files: 430\n",
      "step: 44 out of: 53   Number of files: 440\n",
      "step: 45 out of: 53   Number of files: 450\n",
      "step: 46 out of: 53   Number of files: 460\n",
      "step: 47 out of: 53   Number of files: 470\n",
      "step: 48 out of: 53   Number of files: 480\n",
      "step: 49 out of: 53   Number of files: 490\n",
      "step: 50 out of: 53   Number of files: 500\n",
      "step: 51 out of: 53   Number of files: 510\n",
      "step: 52 out of: 53   Number of files: 520\n",
      "step: 53 out of: 53   Number of files: 530\n",
      "537\n",
      "\n",
      "error handling\n",
      "\n",
      "\n",
      "\n",
      "\n",
      "Done with errors\n",
      "\n",
      "\n",
      "we at: 6419 out of 53712. Giving us percent complete of 11.95077%   \r"
     ]
    }
   ],
   "source": [
    "kitties.Update_kitties()"
   ]
  },
  {
   "cell_type": "code",
   "execution_count": null,
   "metadata": {},
   "outputs": [],
   "source": []
  },
  {
   "cell_type": "code",
   "execution_count": null,
   "metadata": {},
   "outputs": [],
   "source": [
    "# from Data.Update import Update_train_dataset"
   ]
  },
  {
   "cell_type": "code",
   "execution_count": null,
   "metadata": {},
   "outputs": [],
   "source": [
    "# update = Update_train_dataset()"
   ]
  },
  {
   "cell_type": "code",
   "execution_count": null,
   "metadata": {},
   "outputs": [],
   "source": [
    "# update.Update_all()"
   ]
  },
  {
   "cell_type": "code",
   "execution_count": null,
   "metadata": {},
   "outputs": [],
   "source": [
    "# update.Update_ETH_price()\n",
    "# update.Update_trends()"
   ]
  },
  {
   "cell_type": "code",
   "execution_count": null,
   "metadata": {},
   "outputs": [],
   "source": []
  }
 ],
 "metadata": {
  "kernelspec": {
   "display_name": "Python 3",
   "language": "python",
   "name": "python3"
  },
  "language_info": {
   "codemirror_mode": {
    "name": "ipython",
    "version": 3
   },
   "file_extension": ".py",
   "mimetype": "text/x-python",
   "name": "python",
   "nbconvert_exporter": "python",
   "pygments_lexer": "ipython3",
   "version": "3.6.8"
  }
 },
 "nbformat": 4,
 "nbformat_minor": 2
}
