{
 "cells": [
  {
   "cell_type": "code",
   "execution_count": null,
   "metadata": {
    "scrolled": true
   },
   "outputs": [
    {
     "name": "stdout",
     "output_type": "stream",
     "text": [
      "2019-07-10T20-40-36\n",
      "step: 0 out of: 141   Number of files: 0\n",
      "step: 1 out of: 141   Number of files: 10\n",
      "step: 2 out of: 141   Number of files: 20\n",
      "step: 3 out of: 141   Number of files: 30\n",
      "step: 4 out of: 141   Number of files: 40\n",
      "step: 5 out of: 141   Number of files: 50\n",
      "step: 6 out of: 141   Number of files: 60\n",
      "step: 7 out of: 141   Number of files: 70\n",
      "step: 8 out of: 141   Number of files: 80\n",
      "step: 9 out of: 141   Number of files: 90\n",
      "step: 10 out of: 141   Number of files: 100\n",
      "step: 11 out of: 141   Number of files: 110\n",
      "step: 12 out of: 141   Number of files: 120\n",
      "step: 13 out of: 141   Number of files: 130\n",
      "step: 14 out of: 141   Number of files: 140\n",
      "step: 15 out of: 141   Number of files: 150\n",
      "step: 16 out of: 141   Number of files: 160\n",
      "step: 17 out of: 141   Number of files: 170\n",
      "step: 18 out of: 141   Number of files: 180\n",
      "step: 19 out of: 141   Number of files: 190\n",
      "step: 20 out of: 141   Number of files: 200\n",
      "step: 21 out of: 141   Number of files: 210\n",
      "step: 22 out of: 141   Number of files: 220\n",
      "step: 23 out of: 141   Number of files: 230\n",
      "step: 24 out of: 141   Number of files: 240\n",
      "step: 25 out of: 141   Number of files: 250\n",
      "step: 26 out of: 141   Number of files: 260\n",
      "step: 27 out of: 141   Number of files: 270\n",
      "step: 28 out of: 141   Number of files: 280\n",
      "step: 29 out of: 141   Number of files: 290\n",
      "step: 30 out of: 141   Number of files: 300\n",
      "307\r"
     ]
    }
   ],
   "source": [
    "from Crawler.Kitties_for_sale import Update_kitties_for_sale\n",
    "kitties = Update_kitties_for_sale()\n",
    "kitties.Update_kitties()"
   ]
  },
  {
   "cell_type": "code",
   "execution_count": null,
   "metadata": {},
   "outputs": [],
   "source": [
    "from Model.Models import Model_functions\n",
    "m = Model_functions()\n",
    "m.Model_predict()"
   ]
  },
  {
   "cell_type": "code",
   "execution_count": 1,
   "metadata": {},
   "outputs": [
    {
     "name": "stdout",
     "output_type": "stream",
     "text": [
      "FOUND LATEST POINT!, it is time: 2019-07-09T11:32:12.000Z, USD: 0.48, ID: 1433595\n",
      "We need to pull 677 URL's\n",
      "step: 0   Number of files: 0\n",
      "step: 1   Number of files: 100\n",
      "step: 2   Number of files: 200\n",
      "step: 3   Number of files: 300\n",
      "step: 4   Number of files: 400\n",
      "step: 5   Number of files: 500\n",
      "step: 6   Number of files: 600\n",
      "DONE PULLING 677 HTML FILES\n",
      "we at: 701 out of 702. Giving us percent complete of 99.85755%   \n",
      "WE DONE POPULATING DF WITH LATEST HTML\n",
      "\n",
      "\n",
      "New Data has been merged with old data. \n",
      "Added an aditional 702 rows \n",
      "Giving a total of 110698 data points\n",
      "Saved in train_complete.csv\n",
      "\n",
      "\n",
      "\n",
      "Updated Ethereum price data, saved in ETH_price.csv\n",
      "\n",
      "\n",
      "Updated google trends data, saved in trends.csv\n",
      "\n"
     ]
    }
   ],
   "source": [
    "from Data.Update import Update_train_dataset\n",
    "update = Update_train_dataset()\n",
    "update.Update_all()\n",
    "update.Update_ETH_price()\n",
    "update.Update_trends()"
   ]
  },
  {
   "cell_type": "code",
   "execution_count": null,
   "metadata": {},
   "outputs": [],
   "source": []
  }
 ],
 "metadata": {
  "kernelspec": {
   "display_name": "Python 3",
   "language": "python",
   "name": "python3"
  },
  "language_info": {
   "codemirror_mode": {
    "name": "ipython",
    "version": 3
   },
   "file_extension": ".py",
   "mimetype": "text/x-python",
   "name": "python",
   "nbconvert_exporter": "python",
   "pygments_lexer": "ipython3",
   "version": "3.6.8"
  }
 },
 "nbformat": 4,
 "nbformat_minor": 2
}
